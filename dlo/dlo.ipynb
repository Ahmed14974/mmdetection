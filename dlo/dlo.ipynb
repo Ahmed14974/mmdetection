{
 "cells": [
  {
   "cell_type": "code",
   "execution_count": 11,
   "metadata": {},
   "outputs": [],
   "source": [
    "from dlo import *"
   ]
  },
  {
   "cell_type": "code",
   "execution_count": 12,
   "metadata": {},
   "outputs": [
    {
     "name": "stdout",
     "output_type": "stream",
     "text": [
      "1781\n",
      "249\n",
      "(1015, 1354)\n",
      "1782\n",
      "(208, 1, 2)\n",
      "(1, 2)\n",
      "[32, 8, 157, 11]\n",
      "(4, 1, 2)\n",
      "(1, 2)\n",
      "[0, 0, 3, 1]\n",
      "(4, 1, 2)\n",
      "(1, 2)\n",
      "[0, 0, 3, 1]\n",
      "[[(array([[480, 822]], dtype=int32), array([[485, 830]]))], [(array([[492, 837]], dtype=int32), array([[500, 842]])), (array([[500, 842]]), array([[508, 848]]))], [(array([[516, 851]], dtype=int32), array([[525, 852]]))], [(array([[530, 854]], dtype=int32), array([[537, 860]])), (array([[537, 860]]), array([[543, 867]])), (array([[543, 867]]), array([[550, 873]])), (array([[550, 873]]), array([[558, 877]])), (array([[558, 877]]), array([[565, 883]])), (array([[565, 883]]), array([[573, 887]])), (array([[573, 887]]), array([[581, 892]])), (array([[581, 892]]), array([[589, 896]])), (array([[589, 896]]), array([[597, 900]])), (array([[597, 900]]), array([[605, 904]])), (array([[605, 904]]), array([[613, 908]])), (array([[613, 908]]), array([[620, 914]])), (array([[620, 914]]), array([[627, 920]]))], [(array([[632, 922]], dtype=int32), array([[624, 914]]))], [(array([[622, 908]], dtype=int32), array([[612, 908]]))], [(array([[604, 904]], dtype=int32), array([[595, 899]])), (array([[595, 899]]), array([[586, 894]])), (array([[586, 894]]), array([[577, 889]])), (array([[577, 889]]), array([[568, 884]])), (array([[568, 884]]), array([[559, 878]])), (array([[559, 878]]), array([[550, 872]])), (array([[550, 872]]), array([[542, 865]])), (array([[542, 865]]), array([[536, 857]]))], [(array([[537, 854]], dtype=int32), array([[527, 852]])), (array([[527, 852]]), array([[517, 851]]))], [(array([[508, 847]], dtype=int32), array([[499, 841]])), (array([[499, 841]]), array([[491, 834]])), (array([[491, 834]]), array([[483, 827]]))]]\n",
      "26 intersections\n",
      "[[], [], [], [(array([[530, 854]], dtype=int32), array([[537, 860]])), (array([[537, 860]]), array([[543, 867]])), (array([[543, 867]]), array([[550, 873]])), (array([[550, 873]]), array([[558, 877]])), (array([[558, 877]]), array([[565, 883]])), (array([[565, 883]]), array([[573, 887]])), (array([[573, 887]]), array([[581, 892]])), (array([[581, 892]]), array([[589, 896]])), (array([[589, 896]]), array([[597, 900]])), (array([[597, 900]]), array([[605, 904]])), (array([[605, 904]]), array([[613, 908]])), (array([[613, 908]]), array([[620, 914]])), (array([[620, 914]]), array([[627, 920]]))], [], [], [], [(array([[527, 852]]), array([[517, 851]]))], [(array([[508, 847]], dtype=int32), array([[499, 841]])), (array([[499, 841]]), array([[491, 834]])), (array([[491, 834]]), array([[483, 827]]))]]\n",
      "[[]]\n",
      "0 intersections\n",
      "[[]]\n",
      "[[]]\n",
      "0 intersections\n",
      "[[]]\n",
      "0\n",
      "0\n",
      "0\n",
      "297\n",
      "297\n",
      "297\n",
      "297\n",
      "330\n",
      "408\n",
      "408\n",
      "408\n"
     ]
    }
   ],
   "source": [
    "df = pd.read_csv('/deep/group/aicc-bootcamp/cloud-pollution/data/'\\\n",
    "                'combined_v3_typed_new_composite/COCO_format_cropped/train.csv')\n",
    "df = df[df['contains_shiptrack']]\n",
    "image = df.iloc[0]['mask']   # loop over rows eventually\n",
    "image = np.load(image)      \n",
    "print(np.count_nonzero(image))\n",
    "image_proc = np.abs(image.astype(int)).astype(np.uint8)\n",
    "# Image.fromarray(image_proc).save(\"dlo_orig.png\")\n",
    "\n",
    "# Skeletonize\n",
    "thinned = skeleton(image)\n",
    "\n",
    "# Find contours\n",
    "# https://github.com/opencv/opencv/blob/4.x/samples/python/contours.py\n",
    "contours0, hierarchy = cv.findContours(thinned.copy(), mode = cv.RETR_TREE, \n",
    "                                        method = cv.CHAIN_APPROX_SIMPLE)\n",
    "# contours = [cv.approxPolyDP(cnt, 3, True) for cnt in contours0] DONT DO THIS\n",
    "h, w = thinned.shape[:2]\n",
    "levels = 0\n",
    "vis = np.zeros((h, w, 3), np.uint8)\n",
    "cv.drawContours(vis, contours0, -1, (128,255,255), 1, cv.LINE_AA, \n",
    "                hierarchy, abs(levels) )\n",
    "print(np.count_nonzero(vis))\n",
    "Image.fromarray(vis).save(\"dlo_contour_max6.png\")\n",
    "\n",
    "#fit and prune doo segments \n",
    "chain_collns = [traverseContour(contour) for contour in contours0]\n",
    "# draw_chain_collns(chain_collns, h, w)\n",
    "pruned = [prune(chain_colln) for chain_colln in chain_collns]\n",
    "merged = merge_all_chains(pruned)\n",
    "\n",
    "draw_chain_collns(pruned, h, w)\n"
   ]
  },
  {
   "cell_type": "code",
   "execution_count": 22,
   "metadata": {},
   "outputs": [],
   "source": [
    "def draw_chain(chain, h ,w, img_path='dlo_segments_merged.png', color=0):\n",
    "    vis = np.zeros((h, w, 3), np.uint8)\n",
    "    for segment in chain[0]:\n",
    "        cv.line(vis, segment[0][0], segment[1][0], (color, 255 - color, 255), 1)\n",
    "    Image.fromarray(vis).save(img_path)"
   ]
  },
  {
   "cell_type": "code",
   "execution_count": 122,
   "metadata": {},
   "outputs": [],
   "source": [
    "def merge_two_chains(c1, c2):\n",
    "    combos = [[[c1[ai], ai], [c2[bi], bi]] for ai in [0,-1] for bi in [0,-1]]\n",
    "\n",
    "    costs = []\n",
    "    for combo in combos:\n",
    "        s1, s2 = combo\n",
    "        weights = [1,1,1]\n",
    "        costs.append(merge_cost(s1, s2, weights))\n",
    "\n",
    "    to_connect = combos[np.argmin(costs)]\n",
    "\n",
    "    # 4 cases\n",
    "    ret = []\n",
    "    if (to_connect[0][-1] == -1) and (to_connect[-1][-1] == 0):\n",
    "        ret = c1 + c2\n",
    "    elif (to_connect[0][-1] == 0) and (to_connect[-1][-1] == -1):\n",
    "        ret = c2 + c1\n",
    "    elif (to_connect[0][-1] == 0) and (to_connect[-1][-1] == 0):\n",
    "        ret = c1[::-1] + c2\n",
    "    elif (to_connect[0][-1] == -1) and (to_connect[-1][-1] == -1):\n",
    "        ret = c1 + c2[::-1]\n",
    "\n",
    "    return ret\n",
    "\n"
   ]
  },
  {
   "cell_type": "code",
   "execution_count": 130,
   "metadata": {},
   "outputs": [],
   "source": [
    "def merge_all_chains(pruned):\n",
    "    to_merge = []\n",
    "    for chain_clcn in pruned:\n",
    "        for chain in chain_clcn:\n",
    "            if chain:\n",
    "                to_merge.append(chain)\n",
    "\n",
    "        while len(to_merge) > 1:\n",
    "            c1 = to_merge.pop()\n",
    "            c2 = to_merge.pop()\n",
    "            merged = merge_two_chains(c1, c2)\n",
    "            to_merge.append(merged)\n",
    "    return to_merge"
   ]
  },
  {
   "cell_type": "code",
   "execution_count": 131,
   "metadata": {},
   "outputs": [
    {
     "data": {
      "text/plain": [
       "[[(array([[491, 834]]), array([[483, 827]])),\n",
       "  (array([[499, 841]]), array([[491, 834]])),\n",
       "  (array([[508, 847]], dtype=int32), array([[499, 841]])),\n",
       "  (array([[527, 852]]), array([[517, 851]])),\n",
       "  (array([[530, 854]], dtype=int32), array([[537, 860]])),\n",
       "  (array([[537, 860]]), array([[543, 867]])),\n",
       "  (array([[543, 867]]), array([[550, 873]])),\n",
       "  (array([[550, 873]]), array([[558, 877]])),\n",
       "  (array([[558, 877]]), array([[565, 883]])),\n",
       "  (array([[565, 883]]), array([[573, 887]])),\n",
       "  (array([[573, 887]]), array([[581, 892]])),\n",
       "  (array([[581, 892]]), array([[589, 896]])),\n",
       "  (array([[589, 896]]), array([[597, 900]])),\n",
       "  (array([[597, 900]]), array([[605, 904]])),\n",
       "  (array([[605, 904]]), array([[613, 908]])),\n",
       "  (array([[613, 908]]), array([[620, 914]])),\n",
       "  (array([[620, 914]]), array([[627, 920]]))]]"
      ]
     },
     "execution_count": 131,
     "metadata": {},
     "output_type": "execute_result"
    }
   ],
   "source": [
    "merge_all_chains(pruned)"
   ]
  },
  {
   "cell_type": "code",
   "execution_count": 133,
   "metadata": {},
   "outputs": [
    {
     "name": "stdout",
     "output_type": "stream",
     "text": [
      "[(array([[620, 914]]), array([[627, 920]])), (array([[613, 908]]), array([[620, 914]])), (array([[605, 904]]), array([[613, 908]])), (array([[597, 900]]), array([[605, 904]])), (array([[589, 896]]), array([[597, 900]])), (array([[581, 892]]), array([[589, 896]])), (array([[573, 887]]), array([[581, 892]])), (array([[565, 883]]), array([[573, 887]])), (array([[558, 877]]), array([[565, 883]])), (array([[550, 873]]), array([[558, 877]])), (array([[543, 867]]), array([[550, 873]])), (array([[537, 860]]), array([[543, 867]])), (array([[530, 854]], dtype=int32), array([[537, 860]])), (array([[508, 847]], dtype=int32), array([[499, 841]])), (array([[499, 841]]), array([[491, 834]])), (array([[491, 834]]), array([[483, 827]]))]\n"
     ]
    }
   ],
   "source": [
    "\n",
    "c1 = pruned[0][3]\n",
    "c2 = pruned[0][-1]\n",
    "\n",
    "\n",
    "combos = [[[c1[ai], ai], [c2[bi], bi]] for ai in [0,-1] for bi in [0,-1]]\n",
    "\n",
    "costs = []\n",
    "for combo in combos:\n",
    "    s1, s2 = combo\n",
    "    weights = [1,1,1]\n",
    "    costs.append(merge_cost(s1, s2, weights))\n",
    "\n",
    "to_connect = combos[np.argmin(costs)]\n",
    "# 4 cases\n",
    "ret = []\n",
    "if (to_connect[0][-1] == -1) and (to_connect[-1][-1] == 0):\n",
    "    ret = c1 + c2\n",
    "elif (to_connect[0][-1] == 0) and (to_connect[-1][-1] == -1):\n",
    "    ret = c2 + c1\n",
    "elif (to_connect[0][-1] == 0) and (to_connect[-1][-1] == 0):\n",
    "    ret = c1[::-1] + c2\n",
    "elif (to_connect[0][-1] == -1) and (to_connect[-1][-1] == -1):\n",
    "    ret = c1 + c2[::-1]\n",
    "\n",
    "\n",
    "print(ret)\n",
    "\n",
    "\n"
   ]
  },
  {
   "cell_type": "code",
   "execution_count": 101,
   "metadata": {},
   "outputs": [],
   "source": [
    "# Question: how to define s1/s2 end?\n",
    "# Currently assuming s1.end = s1[0] & s2.end = s2[1]\n",
    "# TODO: Define as unattached \n",
    "\n",
    "\"\"\"\n",
    "Input: \n",
    "s1 [[[endpoint1, endpoint2], index_of_segment]]\n",
    "\"\"\"\n",
    "\n",
    "def euclidean_cost(s1, s2):\n",
    "    return np.linalg.norm(s1[0][s1[-1]] - s2[0][s2[-1]])\n",
    "\n",
    "def dir_cost(s1, s2):\n",
    "    v_s1 = s1[0][-1] - s1[0][0]\n",
    "    v_s2 = s2[0][-1] - s2[0][0]\n",
    "    return float(np.abs(np.arccos(np.inner(-v_s1, v_s2)/(np.linalg.norm(s1[0]) * np.linalg.norm(s2[0])))))\n",
    "\n",
    "def curv_cost(s1, s2):\n",
    "    v_s1 = s1[0][-1] - s1[0][0]\n",
    "    v_s2 = s2[0][-1] - s2[0][0]\n",
    "    v_s21 = s2[0][s2[-1]] - s1[0][s1[-1]]\n",
    "    v_s12 = s1[0][s1[-1]] - s2[0][s2[-1]]\n",
    "\n",
    "    c1 = float(np.abs(np.arccos(np.inner(v_s1, v_s21)/(np.linalg.norm(s1[0]) * np.linalg.norm(v_s21)))))\n",
    "    c2 = float(np.abs(np.arccos(np.inner(v_s2, v_s12)/(np.linalg.norm(s2[0]) * np.linalg.norm(v_s12)))))\n",
    "\n",
    "    return np.maximum(c1, c2)\n",
    "\n",
    "def merge_cost(s1, s2, weights): \n",
    "    w_c, w_d, w_e = weights\n",
    "    return np.sum([w_c * curv_cost(s1,s2), w_d * dir_cost(s1,s2), w_e * euclidean_cost(s1,s2)])"
   ]
  },
  {
   "cell_type": "code",
   "execution_count": 77,
   "metadata": {},
   "outputs": [
    {
     "data": {
      "text/plain": [
       "22.795885147754007"
      ]
     },
     "execution_count": 77,
     "metadata": {},
     "output_type": "execute_result"
    }
   ],
   "source": [
    "merge_cost(s1, s2, [1,1,1])\n"
   ]
  },
  {
   "cell_type": "code",
   "execution_count": 78,
   "metadata": {},
   "outputs": [
    {
     "data": {
      "text/plain": [
       "[[[],\n",
       "  [],\n",
       "  [],\n",
       "  [(array([[530, 854]], dtype=int32), array([[537, 860]])),\n",
       "   (array([[537, 860]]), array([[543, 867]])),\n",
       "   (array([[543, 867]]), array([[550, 873]])),\n",
       "   (array([[550, 873]]), array([[558, 877]])),\n",
       "   (array([[558, 877]]), array([[565, 883]])),\n",
       "   (array([[565, 883]]), array([[573, 887]])),\n",
       "   (array([[573, 887]]), array([[581, 892]])),\n",
       "   (array([[581, 892]]), array([[589, 896]])),\n",
       "   (array([[589, 896]]), array([[597, 900]])),\n",
       "   (array([[597, 900]]), array([[605, 904]])),\n",
       "   (array([[605, 904]]), array([[613, 908]])),\n",
       "   (array([[613, 908]]), array([[620, 914]])),\n",
       "   (array([[620, 914]]), array([[627, 920]]))],\n",
       "  [],\n",
       "  [],\n",
       "  [],\n",
       "  [(array([[527, 852]]), array([[517, 851]]))],\n",
       "  [(array([[508, 847]], dtype=int32), array([[499, 841]])),\n",
       "   (array([[499, 841]]), array([[491, 834]])),\n",
       "   (array([[491, 834]]), array([[483, 827]]))]],\n",
       " [[]],\n",
       " [[]]]"
      ]
     },
     "execution_count": 78,
     "metadata": {},
     "output_type": "execute_result"
    }
   ],
   "source": [
    "    "
   ]
  },
  {
   "cell_type": "code",
   "execution_count": null,
   "metadata": {},
   "outputs": [],
   "source": []
  }
 ],
 "metadata": {
  "kernelspec": {
   "display_name": "Python 3.9.11 64-bit ('cloud-pollution')",
   "language": "python",
   "name": "python3"
  },
  "language_info": {
   "codemirror_mode": {
    "name": "ipython",
    "version": 3
   },
   "file_extension": ".py",
   "mimetype": "text/x-python",
   "name": "python",
   "nbconvert_exporter": "python",
   "pygments_lexer": "ipython3",
   "version": "3.9.11"
  },
  "orig_nbformat": 4,
  "vscode": {
   "interpreter": {
    "hash": "1add5b6655bdb4994e45ffcc4f442336fedd3dac9962324812d32e304a74a3b6"
   }
  }
 },
 "nbformat": 4,
 "nbformat_minor": 2
}
